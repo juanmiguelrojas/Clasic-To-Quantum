{
 "cells": [
  {
   "cell_type": "markdown",
   "id": "1b9eb707-7c83-4f97-ba13-0231912c8306",
   "metadata": {},
   "source": [
    "# Modelling Classical, probabilistic, and Quantum Systems\n",
    "\n",
    "## Classical Discrete Systems\n",
    "![Deterministic System](images/ClassicPhysicalSystem.png)"
   ]
  },
  {
   "cell_type": "markdown",
   "id": "7aa53935-0e35-48f9-a950-8419d2e10552",
   "metadata": {},
   "source": [
    "\n",
    "\n",
    "Modeling the dynamic behaviors and the state of a classical discrete system using matrices and vectors. The state after one click is computed as follows:\n",
    "\n",
    "$$ \n",
    "    \\begin{bmatrix} 0 && 0 && 0 && 0 && 0 && 0 \\\\\n",
    "                   0 && 0 && 0 && 0 && 0 && 0 \\\\\n",
    "                   0 && 1 && 0 && 0 && 0 && 1 \\\\\n",
    "                   0 && 0 && 0 && 1 && 0 && 0 \\\\\n",
    "                   0 && 0 && 1 && 0 && 0 && 0 \\\\\n",
    "                   1 && 0 && 0 && 0 && 1 && 0 \\\\\n",
    "    \\end{bmatrix}\n",
    "    \\begin{bmatrix} 6 \\\\\n",
    "                    2 \\\\\n",
    "                    1 \\\\\n",
    "                    5 \\\\\n",
    "                    3 \\\\\n",
    "                    10 \\\\\n",
    "    \\end{bmatrix}\n",
    "    =\n",
    "    \\begin{bmatrix} 0 \\\\\n",
    "                    0 \\\\\n",
    "                    12 \\\\\n",
    "                    5 \\\\\n",
    "                    1 \\\\\n",
    "                    9 \\\\\n",
    "    \\end{bmatrix}$$"
   ]
  },
  {
   "cell_type": "code",
   "execution_count": 4,
   "id": "36c6338e-7e0a-49a2-b34d-d3c14cadcce9",
   "metadata": {},
   "outputs": [
    {
     "name": "stdout",
     "output_type": "stream",
     "text": [
      "Input:  [[0 0 0 0 0 0]\n",
      " [0 0 0 0 0 0]\n",
      " [0 1 0 0 0 1]\n",
      " [0 0 0 1 0 0]\n",
      " [0 0 1 0 0 0]\n",
      " [1 0 0 0 1 0]] [[ 6]\n",
      " [ 2]\n",
      " [ 1]\n",
      " [ 5]\n",
      " [ 3]\n",
      " [10]]\n",
      "Result after one Click:  [[ 0]\n",
      " [ 0]\n",
      " [12]\n",
      " [ 5]\n",
      " [ 1]\n",
      " [ 9]]\n"
     ]
    }
   ],
   "source": [
    "import numpy as np\n",
    "\n",
    "# Define two 3x3 complex matrices\n",
    "m1 = np.array([[0,0,0,0,0,0], \n",
    "               [0,0,0,0,0,0], \n",
    "               [0,1,0,0,0,1],\n",
    "               [0,0,0,1,0,0], \n",
    "               [0,0,1,0,0,0], \n",
    "               [1,0,0,0,1,0]])\n",
    "\n",
    "v1 = np.array([[6], [2], [1], [5], [3], [10]])\n",
    "\n",
    "\n",
    "print(\"Input: \", m1,v1)\n",
    "\n",
    "# Multiplying a 3x3 matrix by a 3x1 vector\n",
    "state_after_one_click = np.dot(m1, v1)\n",
    "print(\"Result after one Click: \", state_after_one_click)"
   ]
  },
  {
   "cell_type": "markdown",
   "id": "e57c43d2-c915-4e44-96d8-7ffd835a92fc",
   "metadata": {},
   "source": [
    "![State after two clicks.](images/ClassicPhysicalSystem2.png)\n",
    "\n",
    "The state after two cliks is computed as follows:"
   ]
  },
  {
   "cell_type": "code",
   "execution_count": 3,
   "id": "59a3b269-cabf-4b42-a3f5-43556c45c906",
   "metadata": {},
   "outputs": [
    {
     "name": "stdout",
     "output_type": "stream",
     "text": [
      "Result after two clicks:  [[ 0]\n",
      " [ 0]\n",
      " [ 9]\n",
      " [ 5]\n",
      " [12]\n",
      " [ 1]]\n"
     ]
    }
   ],
   "source": [
    "print(\"Result after two clicks: \", np.dot(m1,state_after_one_click))"
   ]
  },
  {
   "cell_type": "markdown",
   "id": "3a108f1a-df36-40c5-9104-19b2bca3b0e7",
   "metadata": {},
   "source": [
    "## Exercises \n",
    "\n"
   ]
  },
  {
   "cell_type": "markdown",
   "id": "380d0d61-9d8f-4412-99e0-c46a7dd4c98c",
   "metadata": {},
   "source": [
    "### Excercise 1:\n",
    "\n",
    "1. Write a program to model the behavior of the probabilistic double slit example depicted in the figure.\n",
    "2. Show the results of the experiment using a bar diagram. Each bar represents the intensity of the light at the specific target.\n",
    "\n",
    "\n",
    "![Probabilistic Double slit.](images/ProbabilisticSystem.png)"
   ]
  },
  {
   "cell_type": "markdown",
   "id": "a7edade1",
   "metadata": {},
   "source": [
    "# DESARROLLO EXERCISE 1\n",
    "# Resultado de 1 click"
   ]
  },
  {
   "cell_type": "code",
   "execution_count": 5,
   "id": "dbfa5cb4",
   "metadata": {},
   "outputs": [
    {
     "name": "stdout",
     "output_type": "stream",
     "text": [
      "Result after one Click: \n",
      " [[0. ]\n",
      " [0.5]\n",
      " [0.5]\n",
      " [0. ]\n",
      " [0. ]\n",
      " [1. ]\n",
      " [0. ]\n",
      " [0. ]]\n"
     ]
    }
   ],
   "source": [
    "m = np.array([[0  ,0  ,0  ,0  ,0  ,0  ,0  ,0], \n",
    "               [1/2,0  ,0  ,0  ,0  ,0  ,0  ,0], \n",
    "               [1/2,0  ,0  ,0  ,0  ,0  ,0  ,0],\n",
    "               [0  ,1/3,0  ,1  ,0  ,0  ,0  ,0], \n",
    "               [0  ,1/3,1  ,0  ,1  ,0  ,0  ,0], \n",
    "               [1  ,1/3,1/3,0  ,0  ,1  ,0  ,0],\n",
    "               [0  ,0  ,1/3,0  ,0  ,0  ,1  ,0],\n",
    "               [0  ,0  ,1/3,0  ,0  ,0  ,0  ,1]])\n",
    "\n",
    "v1 = np.array([[1], [0], [0], [0], [0], [0], [0], [0]])\n",
    "state_after_one_click = np.dot(m, v1)\n",
    "print(\"Result after one Click: \\n\", state_after_one_click)"
   ]
  },
  {
   "cell_type": "markdown",
   "id": "915d0a0a",
   "metadata": {},
   "source": [
    "# Resultado de 2 clicks"
   ]
  },
  {
   "cell_type": "code",
   "execution_count": 6,
   "id": "e9985ea9",
   "metadata": {},
   "outputs": [
    {
     "name": "stdout",
     "output_type": "stream",
     "text": [
      "Result after two Clicks: \n",
      " [[0.        ]\n",
      " [0.        ]\n",
      " [0.        ]\n",
      " [0.16666667]\n",
      " [0.66666667]\n",
      " [1.33333333]\n",
      " [0.16666667]\n",
      " [0.16666667]]\n"
     ]
    }
   ],
   "source": [
    "m = np.array([[0  ,0  ,0  ,0  ,0  ,0  ,0  ,0], \n",
    "               [1/2,0  ,0  ,0  ,0  ,0  ,0  ,0], \n",
    "               [1/2,0  ,0  ,0  ,0  ,0  ,0  ,0],\n",
    "               [0  ,1/3,0  ,1  ,0  ,0  ,0  ,0], \n",
    "               [0  ,1/3,1  ,0  ,1  ,0  ,0  ,0], \n",
    "               [1  ,1/3,1/3,0  ,0  ,1  ,0  ,0],\n",
    "               [0  ,0  ,1/3,0  ,0  ,0  ,1  ,0],\n",
    "               [0  ,0  ,1/3,0  ,0  ,0  ,0  ,1]])\n",
    "\n",
    "\n",
    "v2 = np.array([[0], [1/2], [1/2], [0], [0], [1], [0], [0]])\n",
    "state_after_two_clicks = np.dot(m, v2)\n",
    "print(\"Result after two Clicks: \\n\", state_after_two_clicks)"
   ]
  },
  {
   "cell_type": "markdown",
   "id": "c1e37175",
   "metadata": {},
   "source": [
    "# Resultado de 3 clicks"
   ]
  },
  {
   "cell_type": "code",
   "execution_count": 7,
   "id": "8c9e6802",
   "metadata": {},
   "outputs": [
    {
     "name": "stdout",
     "output_type": "stream",
     "text": [
      "Result after three Clicks: \n",
      " [[0.        ]\n",
      " [0.        ]\n",
      " [0.        ]\n",
      " [0.16666667]\n",
      " [0.16666667]\n",
      " [0.33333333]\n",
      " [0.16666667]\n",
      " [0.16666667]]\n"
     ]
    }
   ],
   "source": [
    "m = np.array([[0  ,0  ,0  ,0  ,0  ,0  ,0  ,0], \n",
    "               [1/2,0  ,0  ,0  ,0  ,0  ,0  ,0], \n",
    "               [1/2,0  ,0  ,0  ,0  ,0  ,0  ,0],\n",
    "               [0  ,1/3,0  ,1  ,0  ,0  ,0  ,0], \n",
    "               [0  ,1/3,1  ,0  ,1  ,0  ,0  ,0], \n",
    "               [1  ,1/3,1/3,0  ,0  ,1  ,0  ,0],\n",
    "               [0  ,0  ,1/3,0  ,0  ,0  ,1  ,0],\n",
    "               [0  ,0  ,1/3,0  ,0  ,0  ,0  ,1]])\n",
    "\n",
    "v3 = np.array([[0], [0], [0], [1/6], [1/6], [1/3], [1/6], [1/6]])\n",
    "state_after_three_clicks = np.dot(m, v3)\n",
    "print(\"Result after three Clicks: \\n\", state_after_three_clicks)"
   ]
  },
  {
   "cell_type": "markdown",
   "id": "4a35c116",
   "metadata": {},
   "source": [
    "# Grafico de Barras"
   ]
  },
  {
   "cell_type": "code",
   "execution_count": 8,
   "id": "5146146c",
   "metadata": {},
   "outputs": [
    {
     "data": {
      "image/png": "[encoded data removed]",
      "text/plain": [
       "<Figure size 640x480 with 1 Axes>"
      ]
     },
     "metadata": {},
     "output_type": "display_data"
    }
   ],
   "source": [
    "import matplotlib.pyplot as plt\n",
    "\n",
    "# Datos\n",
    "categorias = ['0', '1', '2', '3', '4', '5', '6', '7']\n",
    "valores = [0, 0, 0, 1/6, 1/6, 1/3, 1/6, 1/6]\n",
    "\n",
    "# Crear el gráfico de barras\n",
    "plt.bar(categorias, valores)\n",
    "\n",
    "# Etiquetas y título\n",
    "plt.xlabel('Estados')\n",
    "plt.ylabel('Valores')\n",
    "plt.title('Diagrama de Barras')\n",
    "\n",
    "# Mostrar el gráfico\n",
    "plt.show()"
   ]
  },
  {
   "cell_type": "markdown",
   "id": "22908e20-9e48-474b-97fa-77c83ae951ca",
   "metadata": {},
   "source": [
    "### Excercise 2:\n",
    "\n",
    "1. Write a program to model the behavior of the quantum double slit example depicted in the figure.\n",
    "2. Show the results of the experiment using a bar diagram. Each bar represents the intensity of the light at the specific target.\n",
    "\n",
    "\n",
    "![Probabilistic Double slit.](images/QuantumSystem.png)"
   ]
  },
  {
   "cell_type": "markdown",
   "id": "cd2e33d9",
   "metadata": {},
   "source": [
    "# DESARROLLO EXERCISE 2\n",
    "# Resultado 1 click"
   ]
  },
  {
   "cell_type": "code",
   "execution_count": 9,
   "id": "884c2850",
   "metadata": {},
   "outputs": [
    {
     "name": "stdout",
     "output_type": "stream",
     "text": [
      "Result after one Click: \n",
      " [[0.        +0.j]\n",
      " [0.70710678+0.j]\n",
      " [0.70710678+0.j]\n",
      " [0.        +0.j]\n",
      " [0.        +0.j]\n",
      " [1.        +0.j]\n",
      " [0.        +0.j]\n",
      " [0.        +0.j]]\n"
     ]
    }
   ],
   "source": [
    "m = np.array([[0  ,0  ,0  ,0  ,0  ,0  ,0  ,0], \n",
    "              [1/np.sqrt(2),0  ,0  ,0  ,0  ,0  ,0  ,0], \n",
    "              [1/np.sqrt(2),0  ,0  ,0  ,0  ,0  ,0  ,0],\n",
    "              [0  ,(-1-1j)/np.sqrt(6),0  ,1  ,0  ,0  ,0  ,0], \n",
    "              [0  ,(-1-1j)/np.sqrt(6),1  ,0  ,1  ,0  ,0  ,0], \n",
    "              [1  ,(-1-1j)/np.sqrt(6),(-1-1j)/np.sqrt(6),0  ,0  ,1  ,0  ,0],\n",
    "              [0  ,0  ,(-1-1j)/np.sqrt(6),0  ,0  ,0  ,1  ,0],\n",
    "              [0  ,0  ,(-1-1j)/np.sqrt(6),0  ,0  ,0  ,0  ,1]])\n",
    "\n",
    "v1 = np.array([[1], [0], [0], [0], [0], [0], [0], [0]])\n",
    "state_after_one_click = np.dot(m, v1)\n",
    "print(\"Result after one Click: \\n\", state_after_one_click)"
   ]
  },
  {
   "cell_type": "markdown",
   "id": "6fbcbf28",
   "metadata": {},
   "source": [
    "# Resultado 2 clicks"
   ]
  },
  {
   "cell_type": "code",
   "execution_count": 10,
   "id": "604cf491",
   "metadata": {},
   "outputs": [
    {
     "name": "stdout",
     "output_type": "stream",
     "text": [
      "Result after two Clicks: \n",
      " [[ 0.        +0.j        ]\n",
      " [ 0.        +0.j        ]\n",
      " [ 0.        +0.j        ]\n",
      " [-0.20412415-0.20412415j]\n",
      " [ 0.29587585-0.20412415j]\n",
      " [ 0.59175171-0.40824829j]\n",
      " [-0.20412415-0.20412415j]\n",
      " [-0.20412415-0.20412415j]]\n"
     ]
    }
   ],
   "source": [
    "m = np.array([[0  ,0  ,0  ,0  ,0  ,0  ,0  ,0], \n",
    "              [1/np.sqrt(2),0  ,0  ,0  ,0  ,0  ,0  ,0], \n",
    "              [1/np.sqrt(2),0  ,0  ,0  ,0  ,0  ,0  ,0],\n",
    "              [0  ,(-1-1j)/np.sqrt(6),0  ,1  ,0  ,0  ,0  ,0], \n",
    "              [0  ,(-1-1j)/np.sqrt(6),1  ,0  ,1  ,0  ,0  ,0], \n",
    "              [1  ,(-1-1j)/np.sqrt(6),(-1-1j)/np.sqrt(6),0  ,0  ,1  ,0  ,0],\n",
    "              [0  ,0  ,(-1-1j)/np.sqrt(6),0  ,0  ,0  ,1  ,0],\n",
    "              [0  ,0  ,(-1-1j)/np.sqrt(6),0  ,0  ,0  ,0  ,1]])\n",
    "\n",
    "\n",
    "v2 = np.array([[0], [1/2], [1/2], [0], [0], [1], [0], [0]])\n",
    "state_after_two_clicks = np.dot(m, v2)\n",
    "print(\"Result after two Clicks: \\n\", state_after_two_clicks)"
   ]
  },
  {
   "cell_type": "markdown",
   "id": "6db53183",
   "metadata": {},
   "source": [
    "# Resultado de 3 clicks"
   ]
  },
  {
   "cell_type": "code",
   "execution_count": 11,
   "id": "062e2f43",
   "metadata": {},
   "outputs": [
    {
     "name": "stdout",
     "output_type": "stream",
     "text": [
      "Result after three Clicks: \n",
      " [[0.        +0.j]\n",
      " [0.        +0.j]\n",
      " [0.        +0.j]\n",
      " [0.16666667+0.j]\n",
      " [0.16666667+0.j]\n",
      " [0.33333333+0.j]\n",
      " [0.16666667+0.j]\n",
      " [0.16666667+0.j]]\n"
     ]
    }
   ],
   "source": [
    "m = np.array([[0  ,0  ,0  ,0  ,0  ,0  ,0  ,0], \n",
    "              [1/np.sqrt(2),0  ,0  ,0  ,0  ,0  ,0  ,0], \n",
    "              [1/np.sqrt(2),0  ,0  ,0  ,0  ,0  ,0  ,0],\n",
    "              [0  ,(-1-1j)/np.sqrt(6),0  ,1  ,0  ,0  ,0  ,0], \n",
    "              [0  ,(-1-1j)/np.sqrt(6),1  ,0  ,1  ,0  ,0  ,0], \n",
    "              [1  ,(-1-1j)/np.sqrt(6),(-1-1j)/np.sqrt(6),0  ,0  ,1  ,0  ,0],\n",
    "              [0  ,0  ,(-1-1j)/np.sqrt(6),0  ,0  ,0  ,1  ,0],\n",
    "              [0  ,0  ,(-1-1j)/np.sqrt(6),0  ,0  ,0  ,0  ,1]])\n",
    "\n",
    "\n",
    "\n",
    "v3 = np.array([[0], [0], [0], [1/6], [1/6], [1/3], [1/6], [1/6]])\n",
    "state_after_three_clicks = np.dot(m, v3)\n",
    "print(\"Result after three Clicks: \\n\", state_after_three_clicks)"
   ]
  },
  {
   "cell_type": "markdown",
   "id": "01019daa",
   "metadata": {},
   "source": [
    "# Diagrama de barras"
   ]
  },
  {
   "cell_type": "code",
   "execution_count": 12,
   "id": "88ae1c3a",
   "metadata": {},
   "outputs": [
    {
     "data": {
      "image/png": "[encoded data removed]",
      "text/plain": [
       "<Figure size 640x480 with 1 Axes>"
      ]
     },
     "metadata": {},
     "output_type": "display_data"
    }
   ],
   "source": [
    "import matplotlib.pyplot as plt\n",
    "\n",
    "# Datos\n",
    "categorias = ['0', '1', '2', '3', '4', '5', '6', '7']\n",
    "valores = [0, 0, 0, 1/6, 1/6, 1/3, 1/6, 1/6]\n",
    "\n",
    "# Crear el gráfico de barras\n",
    "plt.bar(categorias, valores)\n",
    "\n",
    "# Etiquetas y título\n",
    "plt.xlabel('Estados')\n",
    "plt.ylabel('Valores')\n",
    "plt.title('Diagrama de Barras')\n",
    "\n",
    "# Mostrar el gráfico\n",
    "plt.show()"
   ]
  }
 ],
 "metadata": {
  "kernelspec": {
   "display_name": "Python 3 (ipykernel)",
   "language": "python",
   "name": "python3"
  },
  "language_info": {
   "codemirror_mode": {
    "name": "ipython",
    "version": 3
   },
   "file_extension": ".py",
   "mimetype": "text/x-python",
   "name": "python",
   "nbconvert_exporter": "python",
   "pygments_lexer": "ipython3",
   "version": "3.11.9"
  }
 },
 "nbformat": 4,
 "nbformat_minor": 5
}
